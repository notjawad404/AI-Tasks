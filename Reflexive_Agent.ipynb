{
  "cells": [
    {
      "cell_type": "code",
      "execution_count": 1,
      "metadata": {
        "id": "vMThxeXEOpNz"
      },
      "outputs": [],
      "source": [
        "import random"
      ]
    },
    {
      "cell_type": "code",
      "execution_count": 2,
      "metadata": {
        "id": "9oNo5ZERO1cf"
      },
      "outputs": [],
      "source": [
        "def input_percept(loc, state):\n",
        "  rule_match(loc, state)"
      ]
    },
    {
      "cell_type": "code",
      "execution_count": 3,
      "metadata": {
        "id": "VS565YuMPF1q"
      },
      "outputs": [],
      "source": [
        "def rule_match(loc, state):\n",
        "  actions = [\"Suck the dirt\", \"Move to A\", \"Move to B\"]\n",
        "  if state == 1:\n",
        "    print(actions[0])\n",
        "  elif loc == \"A\" and state == 0:\n",
        "    print(actions[2])\n",
        "  elif loc == \"B\" and state == 0:\n",
        "    print(actions[1])\n",
        "  else :\n",
        "    print(\"invalid input\")\n"
      ]
    },
    {
      "cell_type": "code",
      "execution_count": 4,
      "metadata": {
        "colab": {
          "base_uri": "https://localhost:8080/"
        },
        "id": "Ee8ycqiDQDFt",
        "outputId": "2910fab9-8ffc-491e-9e49-67598ee5aa1f"
      },
      "outputs": [
        {
          "name": "stdout",
          "output_type": "stream",
          "text": [
            "Suck the dirt\n"
          ]
        }
      ],
      "source": [
        "loc = input(\"Enter Location A or B: \")\n",
        "state = int(input(\"Enter state 1 or 0: \"))\n",
        "\n",
        "input_percept(loc, state)"
      ]
    }
  ],
  "metadata": {
    "colab": {
      "provenance": []
    },
    "kernelspec": {
      "display_name": "Python 3",
      "name": "python3"
    },
    "language_info": {
      "codemirror_mode": {
        "name": "ipython",
        "version": 3
      },
      "file_extension": ".py",
      "mimetype": "text/x-python",
      "name": "python",
      "nbconvert_exporter": "python",
      "pygments_lexer": "ipython3",
      "version": "3.11.0"
    }
  },
  "nbformat": 4,
  "nbformat_minor": 0
}
