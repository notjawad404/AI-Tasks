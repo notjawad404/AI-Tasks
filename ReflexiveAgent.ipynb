{
  "nbformat": 4,
  "nbformat_minor": 0,
  "metadata": {
    "colab": {
      "provenance": [],
      "toc_visible": true,
      "authorship_tag": "ABX9TyM6xM1q1rXZip4KHP8mMFJJ",
      "include_colab_link": true
    },
    "kernelspec": {
      "name": "python3",
      "display_name": "Python 3"
    },
    "language_info": {
      "name": "python"
    }
  },
  "cells": [
    {
      "cell_type": "markdown",
      "metadata": {
        "id": "view-in-github",
        "colab_type": "text"
      },
      "source": [
        "<a href=\"https://colab.research.google.com/github/notjawad404/AI-Agents-/blob/main/ReflexiveAgent.ipynb\" target=\"_parent\"><img src=\"https://colab.research.google.com/assets/colab-badge.svg\" alt=\"Open In Colab\"/></a>"
      ]
    },
    {
      "cell_type": "code",
      "execution_count": 1,
      "metadata": {
        "id": "vMThxeXEOpNz"
      },
      "outputs": [],
      "source": [
        "import random"
      ]
    },
    {
      "cell_type": "code",
      "source": [
        "def input_percept(loc, state):\n",
        "  rule_match(loc, state)"
      ],
      "metadata": {
        "id": "9oNo5ZERO1cf"
      },
      "execution_count": 3,
      "outputs": []
    },
    {
      "cell_type": "code",
      "source": [
        "def rule_match(loc, state):\n",
        "  actions = [\"Suck the dirt\", \"Move to A\", \"Move to B\"]\n",
        "  if state == 1:\n",
        "    print(actions[0])\n",
        "  elif loc == \"A\" and state == 0:\n",
        "    print(actions[2])\n",
        "  elif loc == \"B\" and state == 0:\n",
        "    print(actions[1])\n",
        "  else :\n",
        "    print(\"invalid input\")\n"
      ],
      "metadata": {
        "id": "VS565YuMPF1q"
      },
      "execution_count": 13,
      "outputs": []
    },
    {
      "cell_type": "code",
      "source": [
        "loc = input(\"Enter Location A or B: \")\n",
        "state = int(input(\"Enter state 1 or 0: \"))\n",
        "\n",
        "input_percept(loc, state)"
      ],
      "metadata": {
        "colab": {
          "base_uri": "https://localhost:8080/"
        },
        "id": "Ee8ycqiDQDFt",
        "outputId": "17feee99-6097-455e-c17e-e2f3562ab22b"
      },
      "execution_count": 15,
      "outputs": [
        {
          "output_type": "stream",
          "name": "stdout",
          "text": [
            "Enter Location A or B: A\n",
            "Enter state 1 or 0: 1\n",
            "Suck the dirt\n"
          ]
        }
      ]
    }
  ]
}