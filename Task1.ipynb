{
  "nbformat": 4,
  "nbformat_minor": 0,
  "metadata": {
    "colab": {
      "provenance": [],
      "toc_visible": true,
      "authorship_tag": "ABX9TyMODY1JgjWpxEOMGSYoL2Gq",
      "include_colab_link": true
    },
    "kernelspec": {
      "name": "python3",
      "display_name": "Python 3"
    },
    "language_info": {
      "name": "python"
    }
  },
  "cells": [
    {
      "cell_type": "markdown",
      "metadata": {
        "id": "view-in-github",
        "colab_type": "text"
      },
      "source": [
        "<a href=\"https://colab.research.google.com/github/notjawad404/AI-Tasks/blob/main/200818(AI_Lab_Quiz).ipynb\" target=\"_parent\"><img src=\"https://colab.research.google.com/assets/colab-badge.svg\" alt=\"Open In Colab\"/></a>"
      ]
    },
    {
      "cell_type": "code",
      "execution_count": 11,
      "metadata": {
        "colab": {
          "base_uri": "https://localhost:8080/"
        },
        "id": "ryLOM7c0fZu_",
        "outputId": "25f2ac34-3b51-4043-cbf0-ff751917b3a3"
      },
      "outputs": [
        {
          "output_type": "stream",
          "name": "stdout",
          "text": [
            "Enter a Sentence: Welcome To Python Programming Also Hello World Ok bye and goodbye\n",
            "['Welcome', 'To', 'Python', 'Programming', 'Also', 'Hello', 'World', 'Ok', 'bye', 'and', 'goodbye']\n",
            "Length of List:  11 \n",
            "\n",
            "WELCOME\n",
            "to\n",
            "Python\n",
            "PROGRAMMING\n",
            "Also\n",
            "Hello\n",
            "World\n",
            "ok\n",
            "bye\n",
            "and\n",
            "GOODBYE\n"
          ]
        }
      ],
      "source": [
        "wordList = input(\"Enter a Sentence: \")\n",
        "# wordList = \"Hello, How are you?\"\n",
        "list1 = wordList.split()\n",
        "print(list1)\n",
        "print(\"Length of List: \", len(list1), \"\\n\")\n",
        "for l in range(len(list1)):\n",
        "    if len(list1[l]) <=3:\n",
        "      print(list1[l].lower())\n",
        "    elif len(list1[l]) >= 7:\n",
        "      print(list1[l].upper())\n",
        "    else:\n",
        "      print(list1[l])"
      ]
    }
  ]
}
