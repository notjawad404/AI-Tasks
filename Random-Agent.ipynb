{
  "nbformat": 4,
  "nbformat_minor": 0,
  "metadata": {
    "colab": {
      "provenance": []
    },
    "kernelspec": {
      "name": "python3",
      "display_name": "Python 3"
    },
    "language_info": {
      "name": "python"
    }
  },
  "cells": [
    {
      "cell_type": "code",
      "execution_count": 6,
      "metadata": {
        "id": "VDZXQBpLTcPO"
      },
      "outputs": [],
      "source": [
        "import random"
      ]
    },
    {
      "cell_type": "code",
      "source": [
        "def random_agent():\n",
        "    percept()"
      ],
      "metadata": {
        "id": "zBFbNrtMUN-W"
      },
      "execution_count": 7,
      "outputs": []
    },
    {
      "cell_type": "code",
      "source": [
        "def percept():\n",
        "    loc = input(\"enter location as A or B: \")\n",
        "    state= int(input(\"enter state as 0 or 1: \"))\n",
        "    action_rule(loc, state)"
      ],
      "metadata": {
        "id": "od5-yCJpg1Pd"
      },
      "execution_count": 8,
      "outputs": []
    },
    {
      "cell_type": "code",
      "source": [
        "def action_rule(loc, state):\n",
        "    actions=['left','right',\"clean_dust\",\"no_action\"]\n",
        "    act = random.choice(actions)\n",
        "    if act ==\"right\":\n",
        "        print(\"agent moves to right title\")\n",
        "    elif act==\"left\":\n",
        "        print(\"agent moves to left  title\")\n",
        "    elif act==\"clean\":\n",
        "        print(\"agent performs no action\")\n",
        "    elif act==\"dust\":\n",
        "        print(\"agent removes the dust\")\n",
        "random_agent()"
      ],
      "metadata": {
        "colab": {
          "base_uri": "https://localhost:8080/"
        },
        "id": "fzKD1oBDg-o7",
        "outputId": "c3b685ee-9d1f-40c1-e479-8db77092a19c"
      },
      "execution_count": 11,
      "outputs": [
        {
          "output_type": "stream",
          "name": "stdout",
          "text": [
            "enter location as A or B: A\n",
            "enter state as 0 or 1: 1\n",
            "agent moves to left  title\n"
          ]
        }
      ]
    }
  ]
}