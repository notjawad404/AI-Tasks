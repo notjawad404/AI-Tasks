{
  "cells": [
    {
      "cell_type": "code",
      "execution_count": 1,
      "metadata": {
        "id": "mxoSuXwVjmOF"
      },
      "outputs": [],
      "source": [
        "import random"
      ]
    },
    {
      "cell_type": "code",
      "execution_count": 2,
      "metadata": {
        "id": "akgcEMb4jmON"
      },
      "outputs": [],
      "source": [
        "def get_percept(loc, state_space):\n",
        "    loc, state_space= rule_action(loc, state_space)\n",
        "    return loc, state_space"
      ]
    },
    {
      "cell_type": "code",
      "execution_count": 3,
      "metadata": {
        "id": "XKs_ODM3jmOP"
      },
      "outputs": [],
      "source": [
        "def goalTest(resultant_state, goal_state):\n",
        "    if resultant_state==goal_state:\n",
        "        return True\n",
        "    else:\n",
        "        return False"
      ]
    },
    {
      "cell_type": "code",
      "execution_count": 8,
      "metadata": {
        "id": "apBIfaq_jmOQ"
      },
      "outputs": [],
      "source": [
        "def rule_action(loc, state_space):\n",
        "    if loc==\"A\":\n",
        "        if state_space[loc]==1:\n",
        "            print(\"suck the dirt\\n\")\n",
        "            state_space[loc]=0\n",
        "            loc=\"B\"\n",
        "            return loc, state_space\n",
        "        else:\n",
        "            print(\"location is clean move to next place\\n\")\n",
        "            loc=\"B\"\n",
        "            return loc, state_space\n",
        "            \n",
        "    else:\n",
        "        if state_space[loc]==1:\n",
        "            print(\"suck the dirt\\n\")\n",
        "            state_space[loc]=0\n",
        "            loc=\"A\"\n",
        "            return loc, state_space\n",
        "        else:\n",
        "            print(\"location is clean move to next place\\n\")\n",
        "            loc=\"A\"\n",
        "            return loc, state_space"
      ]
    },
    {
      "cell_type": "code",
      "execution_count": 7,
      "metadata": {
        "colab": {
          "base_uri": "https://localhost:8080/"
        },
        "id": "ZRpEEqvrjmOR",
        "outputId": "09799d36-fbdc-42d0-9dc8-6d6c05142965"
      },
      "outputs": [
        {
          "output_type": "stream",
          "name": "stdout",
          "text": [
            "location is clean move to next place\n",
            "\n",
            "suck the dirt\n",
            "\n",
            "the agent is in goal state\n",
            "{'A': 0, 'B': 0}\n"
          ]
        }
      ],
      "source": [
        "state_space={\"A\":1, \"B\":1} # start state\n",
        "goal_state={\"A\":0, \"B\":0} # goal state\n",
        "goal=False\n",
        "path_cost=0\n",
        "state_space[\"A\"]=random.choice([0,1])\n",
        "state_space[\"B\"]=random.choice([0,1])\n",
        "start_loc=random.choice([\"A\", \"B\"])\n",
        "\n",
        "while goal==False:\n",
        "    goal= goalTest(state_space, goal_state)\n",
        "    if goal==True:\n",
        "        break\n",
        "    else:\n",
        "        start_loc, state_space= get_percept(start_loc, state_space)\n",
        "    \n",
        "\n",
        "print (\"the agent is in goal state\")\n",
        "print(state_space)"
      ]
    }
  ],
  "metadata": {
    "kernelspec": {
      "display_name": "Python 3",
      "language": "python",
      "name": "python3"
    },
    "language_info": {
      "codemirror_mode": {
        "name": "ipython",
        "version": 3
      },
      "file_extension": ".py",
      "mimetype": "text/x-python",
      "name": "python",
      "nbconvert_exporter": "python",
      "pygments_lexer": "ipython3",
      "version": "3.7.0"
    },
    "colab": {
      "provenance": []
    }
  },
  "nbformat": 4,
  "nbformat_minor": 0
}